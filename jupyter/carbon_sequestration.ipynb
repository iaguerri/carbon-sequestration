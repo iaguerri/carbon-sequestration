{
 "cells": [
  {
   "cell_type": "code",
   "execution_count": 2,
   "id": "b12ae7b2",
   "metadata": {},
   "outputs": [],
   "source": [
    "import pandas as pd #to process the data \n",
    "import geopandas as gpd #to give the spatial extension to the data\n",
    "import matplotlib.pyplot as plt #plot graphs\n",
    "import matplotlib.colors as colors\n",
    "import numpy as np #perform numerical data"
   ]
  },
  {
   "cell_type": "code",
   "execution_count": null,
   "id": "61ca9c61",
   "metadata": {},
   "outputs": [],
   "source": []
  },
  {
   "cell_type": "markdown",
   "id": "a5ccf791",
   "metadata": {},
   "source": [
    "#### Area of study"
   ]
  },
  {
   "cell_type": "code",
   "execution_count": 10,
   "id": "645362a4",
   "metadata": {},
   "outputs": [],
   "source": [
    "aoi = gpd.read_file('/app/data/forest_inventory.geojson') "
   ]
  },
  {
   "cell_type": "code",
   "execution_count": 11,
   "id": "22555fdb",
   "metadata": {},
   "outputs": [
    {
     "data": {
      "text/html": [
       "<div>\n",
       "<style scoped>\n",
       "    .dataframe tbody tr th:only-of-type {\n",
       "        vertical-align: middle;\n",
       "    }\n",
       "\n",
       "    .dataframe tbody tr th {\n",
       "        vertical-align: top;\n",
       "    }\n",
       "\n",
       "    .dataframe thead th {\n",
       "        text-align: right;\n",
       "    }\n",
       "</style>\n",
       "<table border=\"1\" class=\"dataframe\">\n",
       "  <thead>\n",
       "    <tr style=\"text-align: right;\">\n",
       "      <th></th>\n",
       "      <th>fid</th>\n",
       "      <th>DN</th>\n",
       "      <th>layer</th>\n",
       "      <th>path</th>\n",
       "      <th>age</th>\n",
       "      <th>geometry</th>\n",
       "    </tr>\n",
       "  </thead>\n",
       "  <tbody>\n",
       "    <tr>\n",
       "      <th>0</th>\n",
       "      <td>1</td>\n",
       "      <td>8</td>\n",
       "      <td>Bamboo</td>\n",
       "      <td>C:\\Users\\Lorenzo\\Desktop\\Forest Inventory Vect...</td>\n",
       "      <td>81-90</td>\n",
       "      <td>POLYGON ((535215.565 4268625.847, 535215.634 4...</td>\n",
       "    </tr>\n",
       "    <tr>\n",
       "      <th>1</th>\n",
       "      <td>2</td>\n",
       "      <td>6</td>\n",
       "      <td>Bamboo</td>\n",
       "      <td>C:\\Users\\Lorenzo\\Desktop\\Forest Inventory Vect...</td>\n",
       "      <td>51-60</td>\n",
       "      <td>POLYGON ((535240.401 4268625.955, 535240.470 4...</td>\n",
       "    </tr>\n",
       "    <tr>\n",
       "      <th>2</th>\n",
       "      <td>3</td>\n",
       "      <td>7</td>\n",
       "      <td>Bamboo</td>\n",
       "      <td>C:\\Users\\Lorenzo\\Desktop\\Forest Inventory Vect...</td>\n",
       "      <td>1-10</td>\n",
       "      <td>POLYGON ((535215.634 4268610.027, 535215.703 4...</td>\n",
       "    </tr>\n",
       "    <tr>\n",
       "      <th>3</th>\n",
       "      <td>4</td>\n",
       "      <td>4</td>\n",
       "      <td>Bamboo</td>\n",
       "      <td>C:\\Users\\Lorenzo\\Desktop\\Forest Inventory Vect...</td>\n",
       "      <td>11-20</td>\n",
       "      <td>POLYGON ((535252.957 4268594.370, 535253.026 4...</td>\n",
       "    </tr>\n",
       "    <tr>\n",
       "      <th>4</th>\n",
       "      <td>5</td>\n",
       "      <td>8</td>\n",
       "      <td>Bamboo</td>\n",
       "      <td>C:\\Users\\Lorenzo\\Desktop\\Forest Inventory Vect...</td>\n",
       "      <td>81-90</td>\n",
       "      <td>POLYGON ((535265.375 4268594.424, 535265.444 4...</td>\n",
       "    </tr>\n",
       "  </tbody>\n",
       "</table>\n",
       "</div>"
      ],
      "text/plain": [
       "   fid  DN   layer                                               path    age  \\\n",
       "0    1   8  Bamboo  C:\\Users\\Lorenzo\\Desktop\\Forest Inventory Vect...  81-90   \n",
       "1    2   6  Bamboo  C:\\Users\\Lorenzo\\Desktop\\Forest Inventory Vect...  51-60   \n",
       "2    3   7  Bamboo  C:\\Users\\Lorenzo\\Desktop\\Forest Inventory Vect...   1-10   \n",
       "3    4   4  Bamboo  C:\\Users\\Lorenzo\\Desktop\\Forest Inventory Vect...  11-20   \n",
       "4    5   8  Bamboo  C:\\Users\\Lorenzo\\Desktop\\Forest Inventory Vect...  81-90   \n",
       "\n",
       "                                            geometry  \n",
       "0  POLYGON ((535215.565 4268625.847, 535215.634 4...  \n",
       "1  POLYGON ((535240.401 4268625.955, 535240.470 4...  \n",
       "2  POLYGON ((535215.634 4268610.027, 535215.703 4...  \n",
       "3  POLYGON ((535252.957 4268594.370, 535253.026 4...  \n",
       "4  POLYGON ((535265.375 4268594.424, 535265.444 4...  "
      ]
     },
     "execution_count": 11,
     "metadata": {},
     "output_type": "execute_result"
    }
   ],
   "source": [
    "aoi.head()"
   ]
  },
  {
   "cell_type": "code",
   "execution_count": 13,
   "id": "f8653c21",
   "metadata": {},
   "outputs": [],
   "source": [
    "aoi = aoi.drop('path',axis=1)"
   ]
  },
  {
   "cell_type": "code",
   "execution_count": null,
   "id": "24a338a4",
   "metadata": {},
   "outputs": [],
   "source": []
  },
  {
   "cell_type": "code",
   "execution_count": null,
   "id": "cefd31db",
   "metadata": {},
   "outputs": [],
   "source": []
  },
  {
   "cell_type": "code",
   "execution_count": null,
   "id": "4fdd52f9",
   "metadata": {},
   "outputs": [],
   "source": []
  }
 ],
 "metadata": {
  "kernelspec": {
   "display_name": "Python 3 (ipykernel)",
   "language": "python",
   "name": "python3"
  },
  "language_info": {
   "codemirror_mode": {
    "name": "ipython",
    "version": 3
   },
   "file_extension": ".py",
   "mimetype": "text/x-python",
   "name": "python",
   "nbconvert_exporter": "python",
   "pygments_lexer": "ipython3",
   "version": "3.10.6"
  }
 },
 "nbformat": 4,
 "nbformat_minor": 5
}
